{
 "cells": [
  {
   "cell_type": "markdown",
   "metadata": {},
   "source": [
    "# HW-7: Genetic Algorithms\n",
    "\n",
    "Write Python script/commands for the following questions:"
   ]
  },
  {
   "cell_type": "markdown",
   "metadata": {},
   "source": [
    "##### Q1. Using Genetic Algorithm, find the optimal parameter set for the following function. Plot Generation Vs Fitness. \n",
    "\n",
    "##### The optimal solution occurs at 0 for this function"
   ]
  },
  {
   "cell_type": "code",
   "execution_count": null,
   "metadata": {
    "tags": []
   },
   "outputs": [],
   "source": [
    "import pygad\n",
    "import numpy as np\n",
    "\n",
    "# 2D Ackley function\n",
    "def func_2d(solution):\n",
    "    x, y = solution  \n",
    "    term1 = -20 * np.exp(-0.2*np.sqrt(0.5*(x**2 + y**2)))\n",
    "    term2 = - np.exp(0.5*(np.cos(2*np.pi*x) + np.cos(2*np.pi*y)))\n",
    "    return term1 + term2 + 20 + np.e\n",
    "\n",
    "\n",
    "# Your Solution \n",
    "\n",
    "\n",
    "\n",
    "\n",
    "\n"
   ]
  },
  {
   "cell_type": "code",
   "execution_count": null,
   "metadata": {},
   "outputs": [],
   "source": []
  }
 ],
 "metadata": {
  "kernelspec": {
   "display_name": "NERSC Python",
   "language": "python",
   "name": "python3"
  },
  "language_info": {
   "codemirror_mode": {
    "name": "ipython",
    "version": 3
   },
   "file_extension": ".py",
   "mimetype": "text/x-python",
   "name": "python",
   "nbconvert_exporter": "python",
   "pygments_lexer": "ipython3",
   "version": "3.11.6"
  }
 },
 "nbformat": 4,
 "nbformat_minor": 4
}
