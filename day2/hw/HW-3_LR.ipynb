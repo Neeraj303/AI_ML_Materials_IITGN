{
 "cells": [
  {
   "cell_type": "markdown",
   "metadata": {},
   "source": [
    "# HW-3: Linear Regression\n",
    "\n",
    "Write Python script/commands to:"
   ]
  },
  {
   "cell_type": "markdown",
   "metadata": {},
   "source": [
    "##### Q1. Load the dataset 'data_1D.csv' and find the optimal coefficients for a linear regression model. Also compute RMSE,MSE, MAE and R-squared to assess the quality of the fit. Make plots to show the results. \n",
    "\n",
    "        "
   ]
  },
  {
   "cell_type": "markdown",
   "metadata": {},
   "source": []
  },
  {
   "cell_type": "code",
   "execution_count": null,
   "metadata": {
    "tags": []
   },
   "outputs": [],
   "source": []
  },
  {
   "cell_type": "markdown",
   "metadata": {
    "tags": []
   },
   "source": [
    "##### Q2. Load the dataset 'Concrete_Data.xls' and find the optimal coefficients for a linear regression model. Also compute RMSE,MSE, MAE and R-squared to assess the quality of the fit. Make plots to show the results. \n",
    "\n",
    "Note: Predict the 'Concrete compressive strength(MPa, megapascals)' using the other features/columns\n",
    "\n",
    "Datasource: https://archive.ics.uci.edu/dataset/165/concrete+compressive+strength"
   ]
  },
  {
   "cell_type": "code",
   "execution_count": null,
   "metadata": {},
   "outputs": [],
   "source": []
  },
  {
   "cell_type": "markdown",
   "metadata": {
    "tags": []
   },
   "source": [
    "##### Q3. On removing any outliers in the data, do you see any improvement in the fit quality? Do this exercise for Q1 and Q2"
   ]
  },
  {
   "cell_type": "code",
   "execution_count": null,
   "metadata": {},
   "outputs": [],
   "source": []
  }
 ],
 "metadata": {
  "kernelspec": {
   "display_name": "arjuna",
   "language": "python",
   "name": "arjuna"
  },
  "language_info": {
   "codemirror_mode": {
    "name": "ipython",
    "version": 3
   },
   "file_extension": ".py",
   "mimetype": "text/x-python",
   "name": "python",
   "nbconvert_exporter": "python",
   "pygments_lexer": "ipython3",
   "version": "3.8.13"
  }
 },
 "nbformat": 4,
 "nbformat_minor": 4
}
