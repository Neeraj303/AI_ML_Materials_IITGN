{
 "cells": [
  {
   "cell_type": "markdown",
   "id": "ee4f29c2-3449-408f-8e7f-7e71f9318e00",
   "metadata": {},
   "source": [
    "# Random Forest"
   ]
  },
  {
   "cell_type": "markdown",
   "id": "1cd256d7-8c34-46d6-b52b-3d4e35f5f0ee",
   "metadata": {
    "tags": []
   },
   "source": [
    "\n",
    "\n",
    "<center><img src=\"https://camo.githubusercontent.com/5afa4bc35f56871811e34f442baacc6cc098bd12a9320062846efe1bed011275/68747470733a2f2f33312e6d656469612e74756d626c722e636f6d2f37393637306561626539336364643434386331356635626362313938643066622f74756d626c725f696e6c696e655f6e386533393859624b76317330347263332e706e67\" alt=\"Drawing\" style=\"width: 500px; height: 250px;\" /></center>\n",
    "\n",
    "<div style=\"text-align: right\"> \n",
    "  <small>camo.githubusercontent.com</small>\n",
    "</div>\n",
    "\n",
    "\n"
   ]
  },
  {
   "cell_type": "markdown",
   "id": "34005101-4b82-4e75-8685-1bdf749bf2b3",
   "metadata": {},
   "source": [
    "© 2023 [University of Illinois at Chicago](https://www.uic.edu/). All rights reserved."
   ]
  },
  {
   "cell_type": "markdown",
   "id": "a2e66409-abad-4f89-bb2f-755e54d61469",
   "metadata": {},
   "source": [
    "## Learning Objectives\n",
    "\n",
    "1. [Basics of Random Forest](#Basics-of-Random-Forest)\n",
    "2. [Using Random Forest for Classification](#Using-Random-Forest-for-Classification)\n",
    "3. [Regression with Random Forest](#Regression-with-Random-Forest)\n"
   ]
  },
  {
   "cell_type": "code",
   "execution_count": null,
   "id": "34379181-4c95-49eb-813b-22a489c43ac3",
   "metadata": {},
   "outputs": [],
   "source": []
  },
  {
   "cell_type": "markdown",
   "id": "6b3c13ba-0205-400b-8128-cdb4713325f2",
   "metadata": {},
   "source": [
    "## Basics of Random Forest"
   ]
  },
  {
   "cell_type": "markdown",
   "id": "90c4a550-8593-4e64-872d-6e7f48787d89",
   "metadata": {},
   "source": [
    "Random Forest is a powerful ensemble learning method used in both classification and regression tasks. It is based on decision trees and combines multiple decision trees to improve predictive accuracy and reduce overfitting.\n",
    "\n",
    "\n",
    "**Decision Trees**\n",
    "- Random Forest is built on the foundation of decision trees. Decision trees are a simple yet effective machine learning model used for classification and regression tasks. They make decisions by recursively splitting data based on feature values.\n",
    "\n",
    "**Ensemble Learning**\n",
    "\n",
    "- Random Forest is an ensemble learning technique, which means it combines the predictions of multiple models to make more accurate predictions. In this case, the ensemble consists of many decision trees.\n",
    "\n",
    "**Bootstrap Aggregating (Bagging)**\n",
    "\n",
    "- Random Forest uses a technique called bagging, which involves training each decision tree on a different subset of the data. This helps reduce overfitting and improve the model's robustness.\n",
    "\n",
    "\n",
    "### Random Forest algorithm\n",
    "\n",
    "<center><img src=\"https://www.ejable.com/wp-content/uploads/2022/04/Random-forest-5.webp\" alt=\"Drawing\" style=\"width: 500px; height: 250px;\" /></center>\n",
    "\n",
    "<div style=\"text-align: right\"> \n",
    "  <small>www.ejable.com</small>\n",
    "</div>\n",
    "\n",
    "\n",
    "\n",
    "1. **Bootstrapping**: Randomly select data points with replacement from the training dataset to create multiple subsets for training each decision tree.\n",
    "\n",
    "2. **Feature Randomization**: Randomly select a subset of features for each decision tree. This ensures diversity among the trees.\n",
    "\n",
    "3. **Tree Building**: For each subset of data, build a decision tree by selecting the best split at each node, considering a random subset of features.\n",
    "\n",
    "4. **Voting or Averaging**: For classification tasks, the final prediction is determined by a majority vote from all decision trees. For regression tasks, predictions are averaged.\n",
    "\n",
    "\n",
    "\n",
    "- Random Forest is robust and less prone to overfitting.\n",
    "- It can handle both classification and regression problems.\n",
    "- It provides feature importances, allowing you to understand the most relevant features in your dataset.\n",
    "- Random Forest models can be computationally expensive, especially when dealing with a large number of trees and features.\n",
    "- Interpretability can be a challenge when using a large Random Forest.\n",
    "\n"
   ]
  },
  {
   "cell_type": "code",
   "execution_count": null,
   "id": "588d154a-1897-4212-9c98-4a666b72cd63",
   "metadata": {},
   "outputs": [],
   "source": []
  },
  {
   "cell_type": "markdown",
   "id": "2a5fb6fe-9e23-4d14-b8a0-4845f1018880",
   "metadata": {},
   "source": [
    "## Using Random Forest for Classification\n",
    "\n",
    "In this section, we will utilize the Random Forest classifier from scikit-learn to classify materials in the Bandgap dataset as either metals or insulators/semiconductors.\n",
    "\n",
    "- **Semiconductor**: A material with a small band gap, typically between 0.5 and 3 electronvolts (eV), allowing it to conduct electricity at higher temperatures than insulators but less effectively than metals.\n",
    "\n",
    "- **Metal**: A material with no band gap or a very small one, allowing it to conduct electricity efficiently.\n",
    "\n",
    "- **Insulator**: A material with a large band gap, typically exceeding 3 eV, making it a poor conductor of electricity.\n",
    "\n",
    "\n"
   ]
  },
  {
   "cell_type": "markdown",
   "id": "10042985-22aa-4592-8f35-85e093fe6fa1",
   "metadata": {},
   "source": [
    "#### Load the dataset"
   ]
  },
  {
   "cell_type": "code",
   "execution_count": 1,
   "id": "f5d65941-98c6-4ec9-8c15-3acd07955a62",
   "metadata": {
    "tags": []
   },
   "outputs": [
    {
     "data": {
      "text/html": [
       "<div>\n",
       "<style scoped>\n",
       "    .dataframe tbody tr th:only-of-type {\n",
       "        vertical-align: middle;\n",
       "    }\n",
       "\n",
       "    .dataframe tbody tr th {\n",
       "        vertical-align: top;\n",
       "    }\n",
       "\n",
       "    .dataframe thead th {\n",
       "        text-align: right;\n",
       "    }\n",
       "</style>\n",
       "<table border=\"1\" class=\"dataframe\">\n",
       "  <thead>\n",
       "    <tr style=\"text-align: right;\">\n",
       "      <th></th>\n",
       "      <th>Number</th>\n",
       "      <th>MendeleevNumber</th>\n",
       "      <th>AtomicWeight</th>\n",
       "      <th>MeltingT</th>\n",
       "      <th>Column</th>\n",
       "      <th>Row</th>\n",
       "      <th>CovalentRadius</th>\n",
       "      <th>Electronegativity</th>\n",
       "      <th>NsValence</th>\n",
       "      <th>NpValence</th>\n",
       "      <th>...</th>\n",
       "      <th>NsUnfilled</th>\n",
       "      <th>NpUnfilled</th>\n",
       "      <th>NdUnfilled</th>\n",
       "      <th>NfUnfilled</th>\n",
       "      <th>NUnfilled</th>\n",
       "      <th>GSvolume_pa</th>\n",
       "      <th>GSbandgap</th>\n",
       "      <th>GSmagmom</th>\n",
       "      <th>SpaceGroupNumber</th>\n",
       "      <th>band_gap</th>\n",
       "    </tr>\n",
       "  </thead>\n",
       "  <tbody>\n",
       "    <tr>\n",
       "      <th>0</th>\n",
       "      <td>2.500000</td>\n",
       "      <td>89.500000</td>\n",
       "      <td>4.257630</td>\n",
       "      <td>26.270000</td>\n",
       "      <td>4.500000</td>\n",
       "      <td>1.250000</td>\n",
       "      <td>41.000000</td>\n",
       "      <td>2.410000</td>\n",
       "      <td>1.250000</td>\n",
       "      <td>0.750000</td>\n",
       "      <td>...</td>\n",
       "      <td>0.750000</td>\n",
       "      <td>0.750000</td>\n",
       "      <td>0.0</td>\n",
       "      <td>0.0</td>\n",
       "      <td>1.500000</td>\n",
       "      <td>8.653437</td>\n",
       "      <td>7.499000</td>\n",
       "      <td>0.0</td>\n",
       "      <td>194.000000</td>\n",
       "      <td>4.3412</td>\n",
       "    </tr>\n",
       "    <tr>\n",
       "      <th>1</th>\n",
       "      <td>10.000000</td>\n",
       "      <td>82.375000</td>\n",
       "      <td>20.369348</td>\n",
       "      <td>158.393750</td>\n",
       "      <td>15.000000</td>\n",
       "      <td>2.375000</td>\n",
       "      <td>84.500000</td>\n",
       "      <td>2.721250</td>\n",
       "      <td>2.000000</td>\n",
       "      <td>3.000000</td>\n",
       "      <td>...</td>\n",
       "      <td>0.000000</td>\n",
       "      <td>3.000000</td>\n",
       "      <td>0.0</td>\n",
       "      <td>0.0</td>\n",
       "      <td>3.000000</td>\n",
       "      <td>17.694308</td>\n",
       "      <td>4.632500</td>\n",
       "      <td>0.0</td>\n",
       "      <td>122.000000</td>\n",
       "      <td>3.5600</td>\n",
       "    </tr>\n",
       "    <tr>\n",
       "      <th>2</th>\n",
       "      <td>6.000000</td>\n",
       "      <td>61.750000</td>\n",
       "      <td>12.240275</td>\n",
       "      <td>160.710000</td>\n",
       "      <td>11.500000</td>\n",
       "      <td>2.000000</td>\n",
       "      <td>85.250000</td>\n",
       "      <td>2.525000</td>\n",
       "      <td>1.750000</td>\n",
       "      <td>2.250000</td>\n",
       "      <td>...</td>\n",
       "      <td>0.250000</td>\n",
       "      <td>2.250000</td>\n",
       "      <td>0.0</td>\n",
       "      <td>0.0</td>\n",
       "      <td>2.500000</td>\n",
       "      <td>15.224896</td>\n",
       "      <td>4.827750</td>\n",
       "      <td>0.0</td>\n",
       "      <td>202.750000</td>\n",
       "      <td>3.6643</td>\n",
       "    </tr>\n",
       "    <tr>\n",
       "      <th>3</th>\n",
       "      <td>9.333333</td>\n",
       "      <td>60.666667</td>\n",
       "      <td>18.701880</td>\n",
       "      <td>135.113333</td>\n",
       "      <td>6.000000</td>\n",
       "      <td>2.333333</td>\n",
       "      <td>100.000000</td>\n",
       "      <td>2.153333</td>\n",
       "      <td>1.333333</td>\n",
       "      <td>1.333333</td>\n",
       "      <td>...</td>\n",
       "      <td>0.666667</td>\n",
       "      <td>0.666667</td>\n",
       "      <td>0.0</td>\n",
       "      <td>0.0</td>\n",
       "      <td>1.333333</td>\n",
       "      <td>29.608889</td>\n",
       "      <td>2.617667</td>\n",
       "      <td>0.0</td>\n",
       "      <td>145.000000</td>\n",
       "      <td>3.6839</td>\n",
       "    </tr>\n",
       "    <tr>\n",
       "      <th>4</th>\n",
       "      <td>10.000000</td>\n",
       "      <td>84.000000</td>\n",
       "      <td>20.326621</td>\n",
       "      <td>145.050000</td>\n",
       "      <td>15.333333</td>\n",
       "      <td>2.333333</td>\n",
       "      <td>81.333333</td>\n",
       "      <td>2.890000</td>\n",
       "      <td>2.000000</td>\n",
       "      <td>3.333333</td>\n",
       "      <td>...</td>\n",
       "      <td>0.000000</td>\n",
       "      <td>2.666667</td>\n",
       "      <td>0.0</td>\n",
       "      <td>0.0</td>\n",
       "      <td>2.666667</td>\n",
       "      <td>15.481329</td>\n",
       "      <td>2.687333</td>\n",
       "      <td>0.0</td>\n",
       "      <td>69.333333</td>\n",
       "      <td>5.1829</td>\n",
       "    </tr>\n",
       "  </tbody>\n",
       "</table>\n",
       "<p>5 rows × 23 columns</p>\n",
       "</div>"
      ],
      "text/plain": [
       "      Number  MendeleevNumber  AtomicWeight    MeltingT     Column       Row  \\\n",
       "0   2.500000        89.500000      4.257630   26.270000   4.500000  1.250000   \n",
       "1  10.000000        82.375000     20.369348  158.393750  15.000000  2.375000   \n",
       "2   6.000000        61.750000     12.240275  160.710000  11.500000  2.000000   \n",
       "3   9.333333        60.666667     18.701880  135.113333   6.000000  2.333333   \n",
       "4  10.000000        84.000000     20.326621  145.050000  15.333333  2.333333   \n",
       "\n",
       "   CovalentRadius  Electronegativity  NsValence  NpValence  ...  NsUnfilled  \\\n",
       "0       41.000000           2.410000   1.250000   0.750000  ...    0.750000   \n",
       "1       84.500000           2.721250   2.000000   3.000000  ...    0.000000   \n",
       "2       85.250000           2.525000   1.750000   2.250000  ...    0.250000   \n",
       "3      100.000000           2.153333   1.333333   1.333333  ...    0.666667   \n",
       "4       81.333333           2.890000   2.000000   3.333333  ...    0.000000   \n",
       "\n",
       "   NpUnfilled  NdUnfilled  NfUnfilled  NUnfilled  GSvolume_pa  GSbandgap  \\\n",
       "0    0.750000         0.0         0.0   1.500000     8.653437   7.499000   \n",
       "1    3.000000         0.0         0.0   3.000000    17.694308   4.632500   \n",
       "2    2.250000         0.0         0.0   2.500000    15.224896   4.827750   \n",
       "3    0.666667         0.0         0.0   1.333333    29.608889   2.617667   \n",
       "4    2.666667         0.0         0.0   2.666667    15.481329   2.687333   \n",
       "\n",
       "   GSmagmom  SpaceGroupNumber  band_gap  \n",
       "0       0.0        194.000000    4.3412  \n",
       "1       0.0        122.000000    3.5600  \n",
       "2       0.0        202.750000    3.6643  \n",
       "3       0.0        145.000000    3.6839  \n",
       "4       0.0         69.333333    5.1829  \n",
       "\n",
       "[5 rows x 23 columns]"
      ]
     },
     "execution_count": 1,
     "metadata": {},
     "output_type": "execute_result"
    }
   ],
   "source": [
    "import numpy as np\n",
    "import pandas as pd\n",
    "\n",
    "data =  pd.read_csv('band_Gap.csv')\n",
    "\n",
    "data.head(5)"
   ]
  },
  {
   "cell_type": "code",
   "execution_count": 2,
   "id": "dd203915-5b64-4a70-bb57-0f517d249718",
   "metadata": {
    "tags": []
   },
   "outputs": [
    {
     "data": {
      "text/plain": [
       "(479, 23)"
      ]
     },
     "execution_count": 2,
     "metadata": {},
     "output_type": "execute_result"
    }
   ],
   "source": [
    "data.shape"
   ]
  },
  {
   "cell_type": "markdown",
   "id": "f73febaa-e182-4a50-8650-e842619b13bc",
   "metadata": {},
   "source": [
    "Now let's determine which materials are metals and which ones are insulators or semiconductors"
   ]
  },
  {
   "cell_type": "code",
   "execution_count": 3,
   "id": "9ce098c9-0132-4477-acea-2c6da35c6e02",
   "metadata": {
    "tags": []
   },
   "outputs": [
    {
     "data": {
      "text/plain": [
       "(array([355.,  33.,  25.,  17.,  15.,  13.,  13.,   4.,   2.,   2.]),\n",
       " array([0.     , 0.74631, 1.49262, 2.23893, 2.98524, 3.73155, 4.47786,\n",
       "        5.22417, 5.97048, 6.71679, 7.4631 ]),\n",
       " <BarContainer object of 10 artists>)"
      ]
     },
     "execution_count": 3,
     "metadata": {},
     "output_type": "execute_result"
    },
    {
     "data": {
      "image/png": "[encoded data removed]",
      "text/plain": [
       "<Figure size 640x480 with 1 Axes>"
      ]
     },
     "metadata": {},
     "output_type": "display_data"
    }
   ],
   "source": [
    "import matplotlib.pyplot as plt\n",
    "\n",
    "plt.hist(data.band_gap)"
   ]
  },
  {
   "cell_type": "code",
   "execution_count": 4,
   "id": "2ea5365c-02af-464d-bf85-04211b60e497",
   "metadata": {
    "tags": []
   },
   "outputs": [
    {
     "data": {
      "text/plain": [
       "479"
      ]
     },
     "execution_count": 4,
     "metadata": {},
     "output_type": "execute_result"
    }
   ],
   "source": [
    "len(data.band_gap)"
   ]
  },
  {
   "cell_type": "code",
   "execution_count": 5,
   "id": "7bc2b579-4125-4f63-b9a3-3982ce507b00",
   "metadata": {
    "tags": []
   },
   "outputs": [
    {
     "data": {
      "text/plain": [
       "(343, 87)"
      ]
     },
     "execution_count": 5,
     "metadata": {},
     "output_type": "execute_result"
    }
   ],
   "source": [
    "metal_index = np.where(data.band_gap <0.5)[0].tolist()\n",
    "\n",
    "semicond_index = np.where((0.5<data.band_gap)&(data.band_gap <3))[0].tolist()\n",
    "\n",
    "len(metal_index),len(semicond_index)"
   ]
  },
  {
   "cell_type": "markdown",
   "id": "f5b64272-99e2-498f-bb5f-c6af0842902f",
   "metadata": {},
   "source": [
    "Since there is a significant difference in the size of the classes, we will attempt to reduce the imbalance by selecting a subset of the metals in the dataset"
   ]
  },
  {
   "cell_type": "code",
   "execution_count": 6,
   "id": "b94d86d2-6d80-4324-9d46-563521a11532",
   "metadata": {
    "tags": []
   },
   "outputs": [],
   "source": [
    "from random import shuffle\n",
    "\n",
    "shuffle(metal_index)\n",
    "metal_index_subset = metal_index[:100]\n",
    "\n",
    "total_index = metal_index_subset+semicond_index\n",
    "\n",
    "# Class labels\n",
    "\n",
    "labels = np.empty(data.shape[0])\n",
    "labels[ metal_index_subset] = 0\n",
    "labels[semicond_index] = 1"
   ]
  },
  {
   "cell_type": "code",
   "execution_count": 7,
   "id": "f73f7794-4b98-4b38-8ebd-f656122df659",
   "metadata": {
    "tags": []
   },
   "outputs": [
    {
     "data": {
      "text/html": [
       "<div>\n",
       "<style scoped>\n",
       "    .dataframe tbody tr th:only-of-type {\n",
       "        vertical-align: middle;\n",
       "    }\n",
       "\n",
       "    .dataframe tbody tr th {\n",
       "        vertical-align: top;\n",
       "    }\n",
       "\n",
       "    .dataframe thead th {\n",
       "        text-align: right;\n",
       "    }\n",
       "</style>\n",
       "<table border=\"1\" class=\"dataframe\">\n",
       "  <thead>\n",
       "    <tr style=\"text-align: right;\">\n",
       "      <th></th>\n",
       "      <th>Number</th>\n",
       "      <th>MendeleevNumber</th>\n",
       "      <th>AtomicWeight</th>\n",
       "      <th>MeltingT</th>\n",
       "      <th>Column</th>\n",
       "      <th>Row</th>\n",
       "      <th>CovalentRadius</th>\n",
       "      <th>Electronegativity</th>\n",
       "      <th>NsValence</th>\n",
       "      <th>NpValence</th>\n",
       "      <th>...</th>\n",
       "      <th>NsUnfilled</th>\n",
       "      <th>NpUnfilled</th>\n",
       "      <th>NdUnfilled</th>\n",
       "      <th>NfUnfilled</th>\n",
       "      <th>NUnfilled</th>\n",
       "      <th>GSvolume_pa</th>\n",
       "      <th>GSbandgap</th>\n",
       "      <th>GSmagmom</th>\n",
       "      <th>SpaceGroupNumber</th>\n",
       "      <th>labels</th>\n",
       "    </tr>\n",
       "  </thead>\n",
       "  <tbody>\n",
       "    <tr>\n",
       "      <th>304</th>\n",
       "      <td>33.000000</td>\n",
       "      <td>59.666667</td>\n",
       "      <td>74.670000</td>\n",
       "      <td>1357.320000</td>\n",
       "      <td>9.000000</td>\n",
       "      <td>4.333333</td>\n",
       "      <td>140.333333</td>\n",
       "      <td>1.850</td>\n",
       "      <td>1.333333</td>\n",
       "      <td>0.333333</td>\n",
       "      <td>...</td>\n",
       "      <td>0.00</td>\n",
       "      <td>1.666667</td>\n",
       "      <td>2.666667</td>\n",
       "      <td>0.0</td>\n",
       "      <td>4.333333</td>\n",
       "      <td>16.652500</td>\n",
       "      <td>0.000000</td>\n",
       "      <td>0.000008</td>\n",
       "      <td>161.000000</td>\n",
       "      <td>0.0</td>\n",
       "    </tr>\n",
       "    <tr>\n",
       "      <th>67</th>\n",
       "      <td>50.400000</td>\n",
       "      <td>61.800000</td>\n",
       "      <td>119.319800</td>\n",
       "      <td>543.800000</td>\n",
       "      <td>10.800000</td>\n",
       "      <td>5.200000</td>\n",
       "      <td>156.600000</td>\n",
       "      <td>1.602</td>\n",
       "      <td>2.000000</td>\n",
       "      <td>0.800000</td>\n",
       "      <td>...</td>\n",
       "      <td>0.00</td>\n",
       "      <td>4.000000</td>\n",
       "      <td>0.000000</td>\n",
       "      <td>0.0</td>\n",
       "      <td>4.000000</td>\n",
       "      <td>32.126000</td>\n",
       "      <td>0.000000</td>\n",
       "      <td>0.000000</td>\n",
       "      <td>157.000000</td>\n",
       "      <td>0.0</td>\n",
       "    </tr>\n",
       "    <tr>\n",
       "      <th>89</th>\n",
       "      <td>17.090909</td>\n",
       "      <td>59.363636</td>\n",
       "      <td>37.621647</td>\n",
       "      <td>569.605455</td>\n",
       "      <td>10.909091</td>\n",
       "      <td>3.090909</td>\n",
       "      <td>118.454545</td>\n",
       "      <td>2.080</td>\n",
       "      <td>2.000000</td>\n",
       "      <td>1.636364</td>\n",
       "      <td>...</td>\n",
       "      <td>0.00</td>\n",
       "      <td>2.727273</td>\n",
       "      <td>0.000000</td>\n",
       "      <td>0.0</td>\n",
       "      <td>2.727273</td>\n",
       "      <td>25.997614</td>\n",
       "      <td>2.925909</td>\n",
       "      <td>0.000000</td>\n",
       "      <td>210.909091</td>\n",
       "      <td>1.0</td>\n",
       "    </tr>\n",
       "    <tr>\n",
       "      <th>455</th>\n",
       "      <td>36.500000</td>\n",
       "      <td>49.500000</td>\n",
       "      <td>85.218549</td>\n",
       "      <td>2277.250000</td>\n",
       "      <td>6.000000</td>\n",
       "      <td>4.500000</td>\n",
       "      <td>149.250000</td>\n",
       "      <td>1.715</td>\n",
       "      <td>2.000000</td>\n",
       "      <td>0.000000</td>\n",
       "      <td>...</td>\n",
       "      <td>0.00</td>\n",
       "      <td>0.000000</td>\n",
       "      <td>6.000000</td>\n",
       "      <td>0.0</td>\n",
       "      <td>6.000000</td>\n",
       "      <td>14.570000</td>\n",
       "      <td>0.000000</td>\n",
       "      <td>0.387129</td>\n",
       "      <td>194.000000</td>\n",
       "      <td>0.0</td>\n",
       "    </tr>\n",
       "    <tr>\n",
       "      <th>245</th>\n",
       "      <td>16.500000</td>\n",
       "      <td>78.000000</td>\n",
       "      <td>34.621750</td>\n",
       "      <td>1120.622500</td>\n",
       "      <td>14.000000</td>\n",
       "      <td>3.000000</td>\n",
       "      <td>106.500000</td>\n",
       "      <td>2.275</td>\n",
       "      <td>1.750000</td>\n",
       "      <td>2.250000</td>\n",
       "      <td>...</td>\n",
       "      <td>0.25</td>\n",
       "      <td>2.250000</td>\n",
       "      <td>0.000000</td>\n",
       "      <td>0.0</td>\n",
       "      <td>2.500000</td>\n",
       "      <td>17.454062</td>\n",
       "      <td>1.482000</td>\n",
       "      <td>0.000000</td>\n",
       "      <td>132.750000</td>\n",
       "      <td>1.0</td>\n",
       "    </tr>\n",
       "  </tbody>\n",
       "</table>\n",
       "<p>5 rows × 23 columns</p>\n",
       "</div>"
      ],
      "text/plain": [
       "        Number  MendeleevNumber  AtomicWeight     MeltingT     Column  \\\n",
       "304  33.000000        59.666667     74.670000  1357.320000   9.000000   \n",
       "67   50.400000        61.800000    119.319800   543.800000  10.800000   \n",
       "89   17.090909        59.363636     37.621647   569.605455  10.909091   \n",
       "455  36.500000        49.500000     85.218549  2277.250000   6.000000   \n",
       "245  16.500000        78.000000     34.621750  1120.622500  14.000000   \n",
       "\n",
       "          Row  CovalentRadius  Electronegativity  NsValence  NpValence  ...  \\\n",
       "304  4.333333      140.333333              1.850   1.333333   0.333333  ...   \n",
       "67   5.200000      156.600000              1.602   2.000000   0.800000  ...   \n",
       "89   3.090909      118.454545              2.080   2.000000   1.636364  ...   \n",
       "455  4.500000      149.250000              1.715   2.000000   0.000000  ...   \n",
       "245  3.000000      106.500000              2.275   1.750000   2.250000  ...   \n",
       "\n",
       "     NsUnfilled  NpUnfilled  NdUnfilled  NfUnfilled  NUnfilled  GSvolume_pa  \\\n",
       "304        0.00    1.666667    2.666667         0.0   4.333333    16.652500   \n",
       "67         0.00    4.000000    0.000000         0.0   4.000000    32.126000   \n",
       "89         0.00    2.727273    0.000000         0.0   2.727273    25.997614   \n",
       "455        0.00    0.000000    6.000000         0.0   6.000000    14.570000   \n",
       "245        0.25    2.250000    0.000000         0.0   2.500000    17.454062   \n",
       "\n",
       "     GSbandgap  GSmagmom  SpaceGroupNumber  labels  \n",
       "304   0.000000  0.000008        161.000000     0.0  \n",
       "67    0.000000  0.000000        157.000000     0.0  \n",
       "89    2.925909  0.000000        210.909091     1.0  \n",
       "455   0.000000  0.387129        194.000000     0.0  \n",
       "245   1.482000  0.000000        132.750000     1.0  \n",
       "\n",
       "[5 rows x 23 columns]"
      ]
     },
     "execution_count": 7,
     "metadata": {},
     "output_type": "execute_result"
    }
   ],
   "source": [
    "data['labels'] = labels\n",
    "\n",
    "#subset for classification\n",
    "data_subset = data.iloc[total_index ,:]\n",
    "data_subset = data_subset.sample(frac=1)\n",
    "data_subset = data_subset.drop(columns=['band_gap'])\n",
    "data_subset.head(5)"
   ]
  },
  {
   "cell_type": "markdown",
   "id": "c88fb5f2-1485-4de7-814a-33e44f41b64a",
   "metadata": {},
   "source": [
    "### Random forest classification"
   ]
  },
  {
   "cell_type": "markdown",
   "id": "e460c968-c9a9-4e32-9010-0403e5282d37",
   "metadata": {},
   "source": [
    "For classification, we will use scikit-learn's `RandomForestClassifier`. See the [documentation](https://scikit-learn.org/stable/modules/generated/sklearn.ensemble.RandomForestClassifier.html) for more details."
   ]
  },
  {
   "cell_type": "code",
   "execution_count": 8,
   "id": "36d4af20-087a-4abc-bbdc-ebf21c232bee",
   "metadata": {
    "tags": []
   },
   "outputs": [],
   "source": [
    "from sklearn.ensemble import RandomForestClassifier\n",
    "from sklearn.model_selection import train_test_split\n",
    "from sklearn.metrics import accuracy_score"
   ]
  },
  {
   "cell_type": "code",
   "execution_count": 9,
   "id": "b44c3876-b4a0-4e5e-840d-0e6b0bf18dd6",
   "metadata": {
    "tags": []
   },
   "outputs": [],
   "source": [
    "X = data_subset.iloc[:,:-1]\n",
    "y = data_subset.iloc[:,-1]\n",
    "\n",
    "X_train, X_test, y_train, y_test = train_test_split(X, y, test_size=0.3, random_state=42)"
   ]
  },
  {
   "cell_type": "code",
   "execution_count": 10,
   "id": "db1a42a0-9838-42a7-b7cc-b48c4a829c4b",
   "metadata": {
    "tags": []
   },
   "outputs": [],
   "source": [
    "model = RandomForestClassifier(n_estimators=100, criterion='gini',random_state=42)"
   ]
  },
  {
   "cell_type": "code",
   "execution_count": 11,
   "id": "bae5b109-7ae4-4672-97a2-c473bef0202f",
   "metadata": {
    "tags": []
   },
   "outputs": [
    {
     "data": {
      "text/html": [
       "<style>#sk-container-id-1 {color: black;background-color: white;}#sk-container-id-1 pre{padding: 0;}#sk-container-id-1 div.sk-toggleable {background-color: white;}#sk-container-id-1 label.sk-toggleable__label {cursor: pointer;display: block;width: 100%;margin-bottom: 0;padding: 0.3em;box-sizing: border-box;text-align: center;}#sk-container-id-1 label.sk-toggleable__label-arrow:before {content: \"▸\";float: left;margin-right: 0.25em;color: #696969;}#sk-container-id-1 label.sk-toggleable__label-arrow:hover:before {color: black;}#sk-container-id-1 div.sk-estimator:hover label.sk-toggleable__label-arrow:before {color: black;}#sk-container-id-1 div.sk-toggleable__content {max-height: 0;max-width: 0;overflow: hidden;text-align: left;background-color: #f0f8ff;}#sk-container-id-1 div.sk-toggleable__content pre {margin: 0.2em;color: black;border-radius: 0.25em;background-color: #f0f8ff;}#sk-container-id-1 input.sk-toggleable__control:checked~div.sk-toggleable__content {max-height: 200px;max-width: 100%;overflow: auto;}#sk-container-id-1 input.sk-toggleable__control:checked~label.sk-toggleable__label-arrow:before {content: \"▾\";}#sk-container-id-1 div.sk-estimator input.sk-toggleable__control:checked~label.sk-toggleable__label {background-color: #d4ebff;}#sk-container-id-1 div.sk-label input.sk-toggleable__control:checked~label.sk-toggleable__label {background-color: #d4ebff;}#sk-container-id-1 input.sk-hidden--visually {border: 0;clip: rect(1px 1px 1px 1px);clip: rect(1px, 1px, 1px, 1px);height: 1px;margin: -1px;overflow: hidden;padding: 0;position: absolute;width: 1px;}#sk-container-id-1 div.sk-estimator {font-family: monospace;background-color: #f0f8ff;border: 1px dotted black;border-radius: 0.25em;box-sizing: border-box;margin-bottom: 0.5em;}#sk-container-id-1 div.sk-estimator:hover {background-color: #d4ebff;}#sk-container-id-1 div.sk-parallel-item::after {content: \"\";width: 100%;border-bottom: 1px solid gray;flex-grow: 1;}#sk-container-id-1 div.sk-label:hover label.sk-toggleable__label {background-color: #d4ebff;}#sk-container-id-1 div.sk-serial::before {content: \"\";position: absolute;border-left: 1px solid gray;box-sizing: border-box;top: 0;bottom: 0;left: 50%;z-index: 0;}#sk-container-id-1 div.sk-serial {display: flex;flex-direction: column;align-items: center;background-color: white;padding-right: 0.2em;padding-left: 0.2em;position: relative;}#sk-container-id-1 div.sk-item {position: relative;z-index: 1;}#sk-container-id-1 div.sk-parallel {display: flex;align-items: stretch;justify-content: center;background-color: white;position: relative;}#sk-container-id-1 div.sk-item::before, #sk-container-id-1 div.sk-parallel-item::before {content: \"\";position: absolute;border-left: 1px solid gray;box-sizing: border-box;top: 0;bottom: 0;left: 50%;z-index: -1;}#sk-container-id-1 div.sk-parallel-item {display: flex;flex-direction: column;z-index: 1;position: relative;background-color: white;}#sk-container-id-1 div.sk-parallel-item:first-child::after {align-self: flex-end;width: 50%;}#sk-container-id-1 div.sk-parallel-item:last-child::after {align-self: flex-start;width: 50%;}#sk-container-id-1 div.sk-parallel-item:only-child::after {width: 0;}#sk-container-id-1 div.sk-dashed-wrapped {border: 1px dashed gray;margin: 0 0.4em 0.5em 0.4em;box-sizing: border-box;padding-bottom: 0.4em;background-color: white;}#sk-container-id-1 div.sk-label label {font-family: monospace;font-weight: bold;display: inline-block;line-height: 1.2em;}#sk-container-id-1 div.sk-label-container {text-align: center;}#sk-container-id-1 div.sk-container {/* jupyter's `normalize.less` sets `[hidden] { display: none; }` but bootstrap.min.css set `[hidden] { display: none !important; }` so we also need the `!important` here to be able to override the default hidden behavior on the sphinx rendered scikit-learn.org. See: https://github.com/scikit-learn/scikit-learn/issues/21755 */display: inline-block !important;position: relative;}#sk-container-id-1 div.sk-text-repr-fallback {display: none;}</style><div id=\"sk-container-id-1\" class=\"sk-top-container\"><div class=\"sk-text-repr-fallback\"><pre>RandomForestClassifier(random_state=42)</pre><b>In a Jupyter environment, please rerun this cell to show the HTML representation or trust the notebook. <br />On GitHub, the HTML representation is unable to render, please try loading this page with nbviewer.org.</b></div><div class=\"sk-container\" hidden><div class=\"sk-item\"><div class=\"sk-estimator sk-toggleable\"><input class=\"sk-toggleable__control sk-hidden--visually\" id=\"sk-estimator-id-1\" type=\"checkbox\" checked><label for=\"sk-estimator-id-1\" class=\"sk-toggleable__label sk-toggleable__label-arrow\">RandomForestClassifier</label><div class=\"sk-toggleable__content\"><pre>RandomForestClassifier(random_state=42)</pre></div></div></div></div></div>"
      ],
      "text/plain": [
       "RandomForestClassifier(random_state=42)"
      ]
     },
     "execution_count": 11,
     "metadata": {},
     "output_type": "execute_result"
    }
   ],
   "source": [
    "model.fit(X_train, y_train)"
   ]
  },
  {
   "cell_type": "code",
   "execution_count": 12,
   "id": "ae6116c6-f5ec-4b6e-906f-8f957bf7be92",
   "metadata": {
    "tags": []
   },
   "outputs": [],
   "source": [
    "predictions = model.predict(X_test)"
   ]
  },
  {
   "cell_type": "code",
   "execution_count": 13,
   "id": "1479d805-9f7a-4fb5-8aed-4ee2a7ea8d3f",
   "metadata": {
    "tags": []
   },
   "outputs": [
    {
     "name": "stdout",
     "output_type": "stream",
     "text": [
      "Model accuracy: 0.9473684210526315\n"
     ]
    }
   ],
   "source": [
    "accuracy = accuracy_score(y_test, predictions)\n",
    "print(f'Model accuracy: {accuracy}')"
   ]
  },
  {
   "cell_type": "markdown",
   "id": "83b1c9ce-7452-4140-b86a-f4f793690b75",
   "metadata": {},
   "source": [
    "Accuracy is a metric used for evaluating classification performance."
   ]
  },
  {
   "cell_type": "markdown",
   "id": "894cbdc6-817f-4360-baa0-2f968e14e917",
   "metadata": {},
   "source": [
    "#### Variation in accuracy with the number of estimators."
   ]
  },
  {
   "cell_type": "code",
   "execution_count": 14,
   "id": "8c24b5d8-c5f2-4f4b-a6b9-dfa22e3a5907",
   "metadata": {
    "tags": []
   },
   "outputs": [],
   "source": [
    "estimators = np.arange(10,110,10)\n",
    "acc = []\n",
    "for e in estimators:\n",
    "    model_e = RandomForestClassifier(n_estimators=e, criterion='gini',random_state=42)\n",
    "    model_e.fit(X_train, y_train)\n",
    "    predictions = model_e.predict(X_test)\n",
    "    accuracy = accuracy_score(y_test, predictions)\n",
    "    acc.append(accuracy)\n",
    "    "
   ]
  },
  {
   "cell_type": "code",
   "execution_count": 15,
   "id": "28864cfa-2d05-4af7-9ddc-2305b592fe4f",
   "metadata": {
    "tags": []
   },
   "outputs": [
    {
     "data": {
      "text/plain": [
       "Text(0, 0.5, 'Accuracy')"
      ]
     },
     "execution_count": 15,
     "metadata": {},
     "output_type": "execute_result"
    },
    {
     "data": {
      "image/png": "[encoded data removed]",
      "text/plain": [
       "<Figure size 640x480 with 1 Axes>"
      ]
     },
     "metadata": {},
     "output_type": "display_data"
    }
   ],
   "source": [
    "plt.plot(estimators,acc)\n",
    "plt.xlabel(\"# Estimators\")\n",
    "plt.ylabel(\"Accuracy\")"
   ]
  },
  {
   "cell_type": "markdown",
   "id": "1cc8cd5a-1a95-4e54-bb20-1b524a5e673a",
   "metadata": {},
   "source": [
    "#### Feature importance"
   ]
  },
  {
   "cell_type": "code",
   "execution_count": 16,
   "id": "db1ae2c6-1d56-4e3a-a2b7-7b981d04a9b9",
   "metadata": {
    "tags": []
   },
   "outputs": [],
   "source": [
    "importances = model.feature_importances_"
   ]
  },
  {
   "cell_type": "code",
   "execution_count": 17,
   "id": "dc77a482-1cbf-4eba-b87f-80da26363681",
   "metadata": {
    "tags": []
   },
   "outputs": [
    {
     "data": {
      "text/plain": [
       "[Text(0, 0, 'Number'),\n",
       " Text(1, 0, 'MendeleevNumber'),\n",
       " Text(2, 0, 'AtomicWeight'),\n",
       " Text(3, 0, 'MeltingT'),\n",
       " Text(4, 0, 'Column'),\n",
       " Text(5, 0, 'Row'),\n",
       " Text(6, 0, 'CovalentRadius'),\n",
       " Text(7, 0, 'Electronegativity'),\n",
       " Text(8, 0, 'NsValence'),\n",
       " Text(9, 0, 'NpValence'),\n",
       " Text(10, 0, 'NdValence'),\n",
       " Text(11, 0, 'NfValence'),\n",
       " Text(12, 0, 'NValence'),\n",
       " Text(13, 0, 'NsUnfilled'),\n",
       " Text(14, 0, 'NpUnfilled'),\n",
       " Text(15, 0, 'NdUnfilled'),\n",
       " Text(16, 0, 'NfUnfilled'),\n",
       " Text(17, 0, 'NUnfilled'),\n",
       " Text(18, 0, 'GSvolume_pa'),\n",
       " Text(19, 0, 'GSbandgap'),\n",
       " Text(20, 0, 'GSmagmom'),\n",
       " Text(21, 0, 'SpaceGroupNumber')]"
      ]
     },
     "execution_count": 17,
     "metadata": {},
     "output_type": "execute_result"
    },
    {
     "data": {
      "image/png": "[encoded data removed]",
      "text/plain": [
       "<Figure size 640x480 with 1 Axes>"
      ]
     },
     "metadata": {},
     "output_type": "display_data"
    }
   ],
   "source": [
    "plt.bar(range(len(importances)),importances)\n",
    "ax= plt.gca()\n",
    "ax.set_xticks(range(len(importances)))\n",
    "ax.set_xticklabels(X.columns,rotation=90)"
   ]
  },
  {
   "cell_type": "code",
   "execution_count": null,
   "id": "bf190264-84c1-415e-b814-6b363f2264df",
   "metadata": {},
   "outputs": [],
   "source": []
  },
  {
   "cell_type": "markdown",
   "id": "3ce9cd87-681a-472d-9c7e-7d676712b8aa",
   "metadata": {},
   "source": [
    "## Regression with Random Forest"
   ]
  },
  {
   "cell_type": "markdown",
   "id": "d1679167-8d19-4fe8-9037-3f84f8b3e774",
   "metadata": {},
   "source": [
    "We will use scikit-learn's RandomForestRegressor for regression. See the [documentation](https://scikit-learn.org/stable/modules/generated/sklearn.ensemble.RandomForestRegressor.html) for more information."
   ]
  },
  {
   "cell_type": "code",
   "execution_count": 18,
   "id": "85fe72f0-3873-4356-95ff-ee0c8569463d",
   "metadata": {
    "tags": []
   },
   "outputs": [],
   "source": [
    "from sklearn.ensemble import RandomForestRegressor\n",
    "from sklearn.metrics import mean_squared_error\n",
    "from sklearn.preprocessing import MinMaxScaler"
   ]
  },
  {
   "cell_type": "code",
   "execution_count": 19,
   "id": "835036fc-5cba-4624-bfea-6fdf2ef836a7",
   "metadata": {
    "tags": []
   },
   "outputs": [],
   "source": [
    "# We are using the whole dataset\n",
    "\n",
    "X = data.iloc[:,:-2]\n",
    "y = data.iloc[:,-2]\n",
    "\n",
    "\n",
    "scaler = MinMaxScaler()\n",
    "X_scaled = scaler.fit_transform(X)\n",
    "\n",
    "\n",
    "X_train, X_test, y_train, y_test = train_test_split(X_scaled, y, test_size=0.2, random_state=42)"
   ]
  },
  {
   "cell_type": "code",
   "execution_count": 20,
   "id": "07e70f23-49d2-480e-97c8-40f54e7b926f",
   "metadata": {
    "tags": []
   },
   "outputs": [],
   "source": [
    "model = RandomForestRegressor(n_estimators=100, criterion='squared_error',random_state=42)"
   ]
  },
  {
   "cell_type": "code",
   "execution_count": 21,
   "id": "89e9b213-b4cb-491d-bfd0-e59da4a8069b",
   "metadata": {
    "tags": []
   },
   "outputs": [
    {
     "data": {
      "text/html": [
       "<style>#sk-container-id-2 {color: black;background-color: white;}#sk-container-id-2 pre{padding: 0;}#sk-container-id-2 div.sk-toggleable {background-color: white;}#sk-container-id-2 label.sk-toggleable__label {cursor: pointer;display: block;width: 100%;margin-bottom: 0;padding: 0.3em;box-sizing: border-box;text-align: center;}#sk-container-id-2 label.sk-toggleable__label-arrow:before {content: \"▸\";float: left;margin-right: 0.25em;color: #696969;}#sk-container-id-2 label.sk-toggleable__label-arrow:hover:before {color: black;}#sk-container-id-2 div.sk-estimator:hover label.sk-toggleable__label-arrow:before {color: black;}#sk-container-id-2 div.sk-toggleable__content {max-height: 0;max-width: 0;overflow: hidden;text-align: left;background-color: #f0f8ff;}#sk-container-id-2 div.sk-toggleable__content pre {margin: 0.2em;color: black;border-radius: 0.25em;background-color: #f0f8ff;}#sk-container-id-2 input.sk-toggleable__control:checked~div.sk-toggleable__content {max-height: 200px;max-width: 100%;overflow: auto;}#sk-container-id-2 input.sk-toggleable__control:checked~label.sk-toggleable__label-arrow:before {content: \"▾\";}#sk-container-id-2 div.sk-estimator input.sk-toggleable__control:checked~label.sk-toggleable__label {background-color: #d4ebff;}#sk-container-id-2 div.sk-label input.sk-toggleable__control:checked~label.sk-toggleable__label {background-color: #d4ebff;}#sk-container-id-2 input.sk-hidden--visually {border: 0;clip: rect(1px 1px 1px 1px);clip: rect(1px, 1px, 1px, 1px);height: 1px;margin: -1px;overflow: hidden;padding: 0;position: absolute;width: 1px;}#sk-container-id-2 div.sk-estimator {font-family: monospace;background-color: #f0f8ff;border: 1px dotted black;border-radius: 0.25em;box-sizing: border-box;margin-bottom: 0.5em;}#sk-container-id-2 div.sk-estimator:hover {background-color: #d4ebff;}#sk-container-id-2 div.sk-parallel-item::after {content: \"\";width: 100%;border-bottom: 1px solid gray;flex-grow: 1;}#sk-container-id-2 div.sk-label:hover label.sk-toggleable__label {background-color: #d4ebff;}#sk-container-id-2 div.sk-serial::before {content: \"\";position: absolute;border-left: 1px solid gray;box-sizing: border-box;top: 0;bottom: 0;left: 50%;z-index: 0;}#sk-container-id-2 div.sk-serial {display: flex;flex-direction: column;align-items: center;background-color: white;padding-right: 0.2em;padding-left: 0.2em;position: relative;}#sk-container-id-2 div.sk-item {position: relative;z-index: 1;}#sk-container-id-2 div.sk-parallel {display: flex;align-items: stretch;justify-content: center;background-color: white;position: relative;}#sk-container-id-2 div.sk-item::before, #sk-container-id-2 div.sk-parallel-item::before {content: \"\";position: absolute;border-left: 1px solid gray;box-sizing: border-box;top: 0;bottom: 0;left: 50%;z-index: -1;}#sk-container-id-2 div.sk-parallel-item {display: flex;flex-direction: column;z-index: 1;position: relative;background-color: white;}#sk-container-id-2 div.sk-parallel-item:first-child::after {align-self: flex-end;width: 50%;}#sk-container-id-2 div.sk-parallel-item:last-child::after {align-self: flex-start;width: 50%;}#sk-container-id-2 div.sk-parallel-item:only-child::after {width: 0;}#sk-container-id-2 div.sk-dashed-wrapped {border: 1px dashed gray;margin: 0 0.4em 0.5em 0.4em;box-sizing: border-box;padding-bottom: 0.4em;background-color: white;}#sk-container-id-2 div.sk-label label {font-family: monospace;font-weight: bold;display: inline-block;line-height: 1.2em;}#sk-container-id-2 div.sk-label-container {text-align: center;}#sk-container-id-2 div.sk-container {/* jupyter's `normalize.less` sets `[hidden] { display: none; }` but bootstrap.min.css set `[hidden] { display: none !important; }` so we also need the `!important` here to be able to override the default hidden behavior on the sphinx rendered scikit-learn.org. See: https://github.com/scikit-learn/scikit-learn/issues/21755 */display: inline-block !important;position: relative;}#sk-container-id-2 div.sk-text-repr-fallback {display: none;}</style><div id=\"sk-container-id-2\" class=\"sk-top-container\"><div class=\"sk-text-repr-fallback\"><pre>RandomForestRegressor(random_state=42)</pre><b>In a Jupyter environment, please rerun this cell to show the HTML representation or trust the notebook. <br />On GitHub, the HTML representation is unable to render, please try loading this page with nbviewer.org.</b></div><div class=\"sk-container\" hidden><div class=\"sk-item\"><div class=\"sk-estimator sk-toggleable\"><input class=\"sk-toggleable__control sk-hidden--visually\" id=\"sk-estimator-id-2\" type=\"checkbox\" checked><label for=\"sk-estimator-id-2\" class=\"sk-toggleable__label sk-toggleable__label-arrow\">RandomForestRegressor</label><div class=\"sk-toggleable__content\"><pre>RandomForestRegressor(random_state=42)</pre></div></div></div></div></div>"
      ],
      "text/plain": [
       "RandomForestRegressor(random_state=42)"
      ]
     },
     "execution_count": 21,
     "metadata": {},
     "output_type": "execute_result"
    }
   ],
   "source": [
    "model.fit(X_train, y_train)"
   ]
  },
  {
   "cell_type": "code",
   "execution_count": 22,
   "id": "44a10b40-3c8e-4589-b631-43978c4a14ae",
   "metadata": {
    "tags": []
   },
   "outputs": [],
   "source": [
    "predictions = model.predict(X_test)"
   ]
  },
  {
   "cell_type": "code",
   "execution_count": 23,
   "id": "5337df87-6e13-436b-9fb1-55ac29c60e88",
   "metadata": {
    "tags": []
   },
   "outputs": [
    {
     "name": "stdout",
     "output_type": "stream",
     "text": [
      "Mean Squared Error: 0.5313507012737496 eV\n"
     ]
    }
   ],
   "source": [
    "mse = mean_squared_error(y_test, predictions)\n",
    "print(f'Mean Squared Error: {mse} eV')"
   ]
  },
  {
   "cell_type": "markdown",
   "id": "ab3593f1-3bcf-4d16-8565-11c459b6166d",
   "metadata": {},
   "source": [
    "#### Variation in accuracy with the number of estimators."
   ]
  },
  {
   "cell_type": "code",
   "execution_count": 24,
   "id": "c91ccede-0a78-4aa4-9934-d66949983354",
   "metadata": {
    "tags": []
   },
   "outputs": [],
   "source": [
    "estimators = np.arange(40,320,40)\n",
    "acc = []\n",
    "for e in estimators:\n",
    "    model_e = RandomForestRegressor(n_estimators=e, criterion='squared_error',random_state=42)\n",
    "    model_e.fit(X_train, y_train)\n",
    "    predictions = model_e.predict(X_test)\n",
    "    mse = mean_squared_error(y_test, predictions)\n",
    "    acc.append(mse)\n",
    "    "
   ]
  },
  {
   "cell_type": "code",
   "execution_count": 25,
   "id": "11d0b8bf-d542-4c30-9618-3e817869bf2a",
   "metadata": {
    "tags": []
   },
   "outputs": [
    {
     "data": {
      "text/plain": [
       "Text(0, 0.5, 'Accuracy')"
      ]
     },
     "execution_count": 25,
     "metadata": {},
     "output_type": "execute_result"
    },
    {
     "data": {
      "image/png": "[encoded data removed]",
      "text/plain": [
       "<Figure size 640x480 with 1 Axes>"
      ]
     },
     "metadata": {},
     "output_type": "display_data"
    }
   ],
   "source": [
    "plt.plot(estimators,acc)\n",
    "plt.xlabel(\"# Estimators\")\n",
    "plt.ylabel(\"Accuracy\")"
   ]
  },
  {
   "cell_type": "markdown",
   "id": "c5f17b56-de06-4a13-b010-3d33a20407ce",
   "metadata": {},
   "source": [
    "#### Feature importance"
   ]
  },
  {
   "cell_type": "code",
   "execution_count": 26,
   "id": "215680ef-b404-4bd9-839a-3e57096e654c",
   "metadata": {
    "tags": []
   },
   "outputs": [],
   "source": [
    "importances = model.feature_importances_"
   ]
  },
  {
   "cell_type": "code",
   "execution_count": 27,
   "id": "a8e0fc7d-d464-4197-bcea-8f5eddb744c7",
   "metadata": {
    "tags": []
   },
   "outputs": [
    {
     "data": {
      "text/plain": [
       "[Text(0, 0, 'Number'),\n",
       " Text(1, 0, 'MendeleevNumber'),\n",
       " Text(2, 0, 'AtomicWeight'),\n",
       " Text(3, 0, 'MeltingT'),\n",
       " Text(4, 0, 'Column'),\n",
       " Text(5, 0, 'Row'),\n",
       " Text(6, 0, 'CovalentRadius'),\n",
       " Text(7, 0, 'Electronegativity'),\n",
       " Text(8, 0, 'NsValence'),\n",
       " Text(9, 0, 'NpValence'),\n",
       " Text(10, 0, 'NdValence'),\n",
       " Text(11, 0, 'NfValence'),\n",
       " Text(12, 0, 'NValence'),\n",
       " Text(13, 0, 'NsUnfilled'),\n",
       " Text(14, 0, 'NpUnfilled'),\n",
       " Text(15, 0, 'NdUnfilled'),\n",
       " Text(16, 0, 'NfUnfilled'),\n",
       " Text(17, 0, 'NUnfilled'),\n",
       " Text(18, 0, 'GSvolume_pa'),\n",
       " Text(19, 0, 'GSbandgap'),\n",
       " Text(20, 0, 'GSmagmom'),\n",
       " Text(21, 0, 'SpaceGroupNumber')]"
      ]
     },
     "execution_count": 27,
     "metadata": {},
     "output_type": "execute_result"
    },
    {
     "data": {
      "image/png": "[encoded data removed]",
      "text/plain": [
       "<Figure size 640x480 with 1 Axes>"
      ]
     },
     "metadata": {},
     "output_type": "display_data"
    }
   ],
   "source": [
    "plt.bar(range(len(importances)),importances)\n",
    "ax= plt.gca()\n",
    "ax.set_xticks(range(len(importances)))\n",
    "ax.set_xticklabels(X.columns,rotation=90)"
   ]
  },
  {
   "cell_type": "code",
   "execution_count": null,
   "id": "c4636e8f-f7b9-4204-b689-49b2284cc8cf",
   "metadata": {},
   "outputs": [],
   "source": []
  },
  {
   "cell_type": "code",
   "execution_count": null,
   "id": "7abb2124-0cc4-4703-96a3-8bf1d01f3233",
   "metadata": {},
   "outputs": [],
   "source": []
  },
  {
   "cell_type": "code",
   "execution_count": null,
   "id": "6dd34360-dcb4-49b6-a8bc-e8cbec3c1989",
   "metadata": {},
   "outputs": [],
   "source": []
  }
 ],
 "metadata": {
  "kernelspec": {
   "display_name": "anaconda_m3560",
   "language": "python",
   "name": "anaconda_m3560"
  },
  "language_info": {
   "codemirror_mode": {
    "name": "ipython",
    "version": 3
   },
   "file_extension": ".py",
   "mimetype": "text/x-python",
   "name": "python",
   "nbconvert_exporter": "python",
   "pygments_lexer": "ipython3",
   "version": "3.10.9"
  }
 },
 "nbformat": 4,
 "nbformat_minor": 5
}
