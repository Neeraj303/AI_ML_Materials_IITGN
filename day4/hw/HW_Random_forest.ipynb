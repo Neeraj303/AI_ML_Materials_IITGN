{
 "cells": [
  {
   "cell_type": "markdown",
   "id": "0c4c8e65-050c-4279-832e-c2c612527b81",
   "metadata": {},
   "source": [
    "# HW : Random Forest\n",
    "\n",
    "Write Python script/commands for the following questions:"
   ]
  },
  {
   "cell_type": "markdown",
   "id": "40f4af3c-6050-4efc-95c2-7eb804903655",
   "metadata": {},
   "source": [
    " Q1. Using the random forest regression model on 'formation_energy.csv', fit a model that predicts the formation energy of a material. Use an 80:20 train-to-test split. Also, find the optimal number of 'n_estimators' that gives the best accuracy."
   ]
  },
  {
   "cell_type": "code",
   "execution_count": 1,
   "id": "c955ad36-ed10-4e8d-ab7a-a9a24e51f582",
   "metadata": {
    "tags": []
   },
   "outputs": [],
   "source": [
    "from sklearn.ensemble import RandomForestRegressor\n",
    "from sklearn.metrics import mean_squared_error\n",
    "from sklearn.preprocessing import MinMaxScaler\n",
    "from sklearn.model_selection import train_test_split\n",
    "\n",
    "\n",
    "\n",
    "#---------------your code-----------------------\n",
    "\n",
    "\n",
    "\n",
    "\n",
    "\n",
    "\n",
    "\n",
    "\n",
    "\n",
    "\n",
    "\n",
    "\n",
    "\n",
    "\n",
    "\n",
    "\n",
    "\n"
   ]
  },
  {
   "cell_type": "code",
   "execution_count": null,
   "id": "6a5bdbe5-ca4a-454b-863c-53f174cf4d45",
   "metadata": {},
   "outputs": [],
   "source": []
  }
 ],
 "metadata": {
  "kernelspec": {
   "display_name": "anaconda_m3560",
   "language": "python",
   "name": "anaconda_m3560"
  },
  "language_info": {
   "codemirror_mode": {
    "name": "ipython",
    "version": 3
   },
   "file_extension": ".py",
   "mimetype": "text/x-python",
   "name": "python",
   "nbconvert_exporter": "python",
   "pygments_lexer": "ipython3",
   "version": "3.10.9"
  }
 },
 "nbformat": 4,
 "nbformat_minor": 5
}
